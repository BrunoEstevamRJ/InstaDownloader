{
  "nbformat": 4,
  "nbformat_minor": 0,
  "metadata": {
    "colab": {
      "name": "InstaDownloader.ipynb",
      "provenance": [],
      "collapsed_sections": []
    },
    "kernelspec": {
      "name": "python3",
      "display_name": "Python 3"
    },
    "language_info": {
      "name": "python"
    }
  },
  "cells": [
    {
      "cell_type": "code",
      "source": [
        "!pip install instaloader"
      ],
      "metadata": {
        "id": "w9wtMpsxa-lK"
      },
      "execution_count": null,
      "outputs": []
    },
    {
      "cell_type": "code",
      "execution_count": 3,
      "metadata": {
        "id": "t3FoMOqza5t3"
      },
      "outputs": [],
      "source": [
        "from datetime import datetime\n",
        "import instaloader"
      ]
    },
    {
      "cell_type": "markdown",
      "source": [
        "Carrega a lib e faz login "
      ],
      "metadata": {
        "id": "CSMixFSjbPkp"
      }
    },
    {
      "cell_type": "code",
      "source": [
        "L = instaloader.Instaloader()\n",
        "L.login('***User do insta***', '***Senha***')"
      ],
      "metadata": {
        "id": "737cXU-fbNo3"
      },
      "execution_count": null,
      "outputs": []
    },
    {
      "cell_type": "markdown",
      "source": [
        "Carrega todos os posts do perfil escolhido"
      ],
      "metadata": {
        "id": "UAGampyIboyp"
      }
    },
    {
      "cell_type": "code",
      "source": [
        "posts = instaloader.Profile.from_username(L.context, \"**perfil escolhido**\").get_posts()"
      ],
      "metadata": {
        "id": "J8MlfKZxbjKP"
      },
      "execution_count": null,
      "outputs": []
    },
    {
      "cell_type": "markdown",
      "source": [
        "Periodo dos posts q vai baixar"
      ],
      "metadata": {
        "id": "GWL2zbtkb_zd"
      }
    },
    {
      "cell_type": "code",
      "source": [
        "SINCE = datetime(2021, 1, 1)\n",
        "UNTIL = datetime(2021, 12, 30)"
      ],
      "metadata": {
        "id": "r9_i5zVncESO"
      },
      "execution_count": null,
      "outputs": []
    },
    {
      "cell_type": "markdown",
      "source": [
        "Percorre os posts e baixa apenas os que estão dentro do período desejado"
      ],
      "metadata": {
        "id": "paKp-48CcQ-z"
      }
    },
    {
      "cell_type": "code",
      "source": [
        "for post in posts:\n",
        "  if(post.date >= SINCE) and (post.date <= UNTIL):\n",
        "    print(post.date)\n",
        "    L.download_post(post, \"insta-posts-downloads\")"
      ],
      "metadata": {
        "id": "ZgDDZqXDcVLb"
      },
      "execution_count": null,
      "outputs": []
    }
  ]
}